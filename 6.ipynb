{
 "cells": [
  {
   "cell_type": "markdown",
   "metadata": {},
   "source": [
    "# Punto seis\n",
    "**Instrucción**\n",
    "\n",
    "Leer un número natural n, leer otro dato de tipo real x y calcular x^n usando ciclos for. Disclaimer: Trate de no utilizar el operador de potencia (**)."
   ]
  },
  {
   "cell_type": "code",
   "execution_count": 1,
   "metadata": {},
   "outputs": [
    {
     "name": "stdout",
     "output_type": "stream",
     "text": [
      "3 elevado a la 5 es igual a 243\n"
     ]
    }
   ],
   "source": [
    "n=int(input(\"Ingrese el valor del exponente n: \"))#Declarando e inicializando n con la función input()\n",
    "x=int(input(\"Ingrese el valor de la base x: \"))#Declarando e inicializando x con la función input()\n",
    "potencia:int=x#Declarando e inicializando potencia como un entero con el mismo valor que x\n",
    "for num in range(2,n+1):#Para todo número num desde 2 hasta n, incrementando de uno en uno\n",
    "    potencia=x*potencia#multiplicar potencia por x (haciendo que x se multiplique por si mismo n veces)\n",
    "print(str(x)+ \" elevado a la \"+str(n)+\" es igual a \"+ str(potencia))#Imprimiendo el valor calculado de la potencia"
   ]
  }
 ],
 "metadata": {
  "kernelspec": {
   "display_name": "Python 3",
   "language": "python",
   "name": "python3"
  },
  "language_info": {
   "codemirror_mode": {
    "name": "ipython",
    "version": 3
   },
   "file_extension": ".py",
   "mimetype": "text/x-python",
   "name": "python",
   "nbconvert_exporter": "python",
   "pygments_lexer": "ipython3",
   "version": "3.11.4"
  }
 },
 "nbformat": 4,
 "nbformat_minor": 2
}
