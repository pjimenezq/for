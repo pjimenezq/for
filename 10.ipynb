{
 "cells": [
  {
   "cell_type": "markdown",
   "metadata": {},
   "source": [
    "# Punto diez\n",
    "**Instrucción**\n",
    "\n",
    "Diseñar una función que permita calcular una aproximación de la función arcotangente alrededor de 0 para cualquier valor x en el rango [-1, 1], utilizando los primeros n términos de la serie de Maclaurin. Nota: use math para traer la función arctan y mostrar la diferencia entre el valor real y la aproximación."
   ]
  },
  {
   "cell_type": "code",
   "execution_count": 1,
   "metadata": {},
   "outputs": [
    {
     "name": "stdout",
     "output_type": "stream",
     "text": [
      "La aproximación de la función arcotangente de 0.1, con 3 términos, es 0.09966866666666667\n",
      "El valor real de la función arcotangente de 0.1 es 0.09966865249116204\n",
      "El error es de 1.4222630964623347e-05\n"
     ]
    }
   ],
   "source": [
    "def funcionArcTan(x:float,n:int)->float:#Función para calcular una aproximación de la función arcotangente\n",
    "    suma : int = 0#Declarando suma como entero e inicializandolo en 0\n",
    "    for i in range(0, n):#Para todo número i desde 0 hasta n-1, incrementando de uno en uno\n",
    "        calculo=((-1)**i)*((x**(2*i+1))/(2*i+1))#se calcula (-1)^i*((x^(2i+1)/(2i+1))\n",
    "        suma += calculo#Se suma los resultados hasta n-1\n",
    "    return(suma)\n",
    "\n",
    "if __name__==\"__main__\":\n",
    "    n = int(input(\"Ingrese la cantidad de términos: \"))#Declarando e inicializando n con input()\n",
    "    x = float(input(\"Ingrese valor x: \"))#Declarando e inicializando x con input()\n",
    "    funcion=funcionArcTan(x,n)#Se llama la función funcionArcTan\n",
    "    print(\"La aproximación de la función arcotangente de \" +str(x)+\", con \" + str(n) + \" términos, es \" + str(funcion)) #Se imprime el resultado de la aproximación\n",
    "    \n",
    "\n",
    "import math\n",
    "arcTan=math.atan(x)#Llamando la función arcotangente de x\n",
    "print(\"El valor real de la función arcotangente de \" +str(x) +\" es \"+ str(arcTan))#Imprimiendo el valor real de la función arcotangente de x\n",
    "\n",
    "error=((abs(funcion-arcTan))/(abs(arcTan)))*100#Formula para calcular el error en porcentaje\n",
    "print(\"El error es de \" +str(error))#Imprimiendo error"
   ]
  }
 ],
 "metadata": {
  "kernelspec": {
   "display_name": "Python 3",
   "language": "python",
   "name": "python3"
  },
  "language_info": {
   "codemirror_mode": {
    "name": "ipython",
    "version": 3
   },
   "file_extension": ".py",
   "mimetype": "text/x-python",
   "name": "python",
   "nbconvert_exporter": "python",
   "pygments_lexer": "ipython3",
   "version": "3.11.4"
  }
 },
 "nbformat": 4,
 "nbformat_minor": 2
}
