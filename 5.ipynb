{
 "cells": [
  {
   "cell_type": "markdown",
   "metadata": {},
   "source": [
    "# Punto cinco\n",
    "**Instrucción**\n",
    "\n",
    "Calcular el valor de 2 elevado a la potencia n usando ciclos for."
   ]
  },
  {
   "cell_type": "code",
   "execution_count": 4,
   "metadata": {},
   "outputs": [
    {
     "name": "stdout",
     "output_type": "stream",
     "text": [
      "2 elevado a la 5 es igual a 32\n"
     ]
    }
   ],
   "source": [
    "n=int(input(\"Ingrese el valor del exponente n: \"))#Declarando e inicializando n con la función input()\n",
    "potencia:int=2#Declarando e inicializando ptencia como un entero con valor de 2\n",
    "for x in range(2,n+1):#Para todo número x desde 2 hasta n, incrementando de uno en uno\n",
    "    potencia=2*potencia#multiplicar potencia por 2 (haciendo que 2 se multiplique por si mismo n veces)\n",
    "print(\"2 elevado a la \"+str(n)+\" es igual a \"+str(potencia))#Imprimir el valor final de potencia\n"
   ]
  }
 ],
 "metadata": {
  "kernelspec": {
   "display_name": "Python 3",
   "language": "python",
   "name": "python3"
  },
  "language_info": {
   "codemirror_mode": {
    "name": "ipython",
    "version": 3
   },
   "file_extension": ".py",
   "mimetype": "text/x-python",
   "name": "python",
   "nbconvert_exporter": "python",
   "pygments_lexer": "ipython3",
   "version": "3.11.4"
  }
 },
 "nbformat": 4,
 "nbformat_minor": 2
}
