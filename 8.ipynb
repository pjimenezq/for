{
 "cells": [
  {
   "cell_type": "markdown",
   "metadata": {},
   "source": [
    "# Punto ocho\n",
    "**Instrucción**\n",
    "\n",
    "Diseñar una función que permita calcular una aproximación de la función exponencial alrededor de 0 para cualquier valor x (real), utilizando los primeros n términos de la serie de Maclaurin. Nota: use math para traer la función exponencial y mostrar la diferencia entre el valor real y la aproximación."
   ]
  },
  {
   "cell_type": "code",
   "execution_count": 3,
   "metadata": {},
   "outputs": [
    {
     "name": "stdout",
     "output_type": "stream",
     "text": [
      "La aproximación de la función exponencial de 6.0, con 16 términos, es 403.22340859140854\n",
      "El valor real de la función exponencial de 6.0 es 403.4287934927351\n",
      "El error es de 0.05090982712176348\n"
     ]
    }
   ],
   "source": [
    "def elFactorial(x:int)->int:#Función para calcular el factorial\n",
    "    factorial:int=1 #Declarando factorial como un entero e inicializandolo en 1\n",
    "    for i in range(1,x+1):#Para todo número i desde 1 hasta el x ingresado, incrementando de uno en uno\n",
    "        factorial=i*factorial#multiplicar el número i por el valor de factorial\n",
    "    return factorial\n",
    "\n",
    "\n",
    "def funcionExponencial(x:float,n:int)->float:#Función para calcular una aproximación de la función exponencial\n",
    "    suma : int = 0#Declarando suma como entero e inicializandolo en 0\n",
    "    for i in range(0, n):#Para todo número i desde 0 hasta n-1, incrementando de uno en uno\n",
    "        fact=elFactorial(i)#Se halla el factorial de i, llamando la función elFactorial\n",
    "        calculo=(x**i)/fact#se calcula x^i/i!\n",
    "        suma += calculo#Se suma los resultados hasta n-1\n",
    "    return(suma)\n",
    "\n",
    "if __name__==\"__main__\":\n",
    "    n = int(input(\"Ingrese la cantidad de términos: \"))#Declarando e inicializando n con input()\n",
    "    x = float(input(\"Ingrese valor x: \"))#Declarando e inicializando x con input()\n",
    "    funcion=funcionExponencial(x,n)#Se llama la función funcionExponencial\n",
    "    print(\"La aproximación de la función exponencial de \" +str(x)+\", con \" + str(n) + \" términos, es \" + str(funcion)) #Se imprime el resultado de la aproximación\n",
    "\n",
    "import math\n",
    "potencia=math.exp(x)#Llamando la función exponencial de x\n",
    "print(\"El valor real de la función exponencial de \" +str(x) +\" es \"+ str(potencia))#Imprimiendo el valor real de la función exponencial de x\n",
    "\n",
    "error=((abs(funcion-potencia))/(abs(potencia)))*100#Formula para calcular el error en porcentaje\n",
    "print(\"El error es de \" +str(error))#Imprimiendo error"
   ]
  },
  {
   "cell_type": "markdown",
   "metadata": {},
   "source": []
  }
 ],
 "metadata": {
  "kernelspec": {
   "display_name": "Python 3",
   "language": "python",
   "name": "python3"
  },
  "language_info": {
   "codemirror_mode": {
    "name": "ipython",
    "version": 3
   },
   "file_extension": ".py",
   "mimetype": "text/x-python",
   "name": "python",
   "nbconvert_exporter": "python",
   "pygments_lexer": "ipython3",
   "version": "3.11.4"
  }
 },
 "nbformat": 4,
 "nbformat_minor": 2
}
