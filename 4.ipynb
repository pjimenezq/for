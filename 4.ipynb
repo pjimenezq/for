{
 "cells": [
  {
   "cell_type": "markdown",
   "metadata": {},
   "source": [
    "# Punto cuatro\n",
    "**Instrucción**\n",
    "\n",
    "Imprimir los números de 1 hasta un número natural n dado, cada uno con su respectivo factorial"
   ]
  },
  {
   "cell_type": "code",
   "execution_count": 1,
   "metadata": {},
   "outputs": [
    {
     "name": "stdout",
     "output_type": "stream",
     "text": [
      "1,1\n",
      "2,2\n",
      "3,6\n",
      "4,24\n",
      "5,120\n"
     ]
    }
   ],
   "source": [
    "x=int(input(\"Ingrese un número natural: \"))#Declarando e inicializando x con la funcion input()\n",
    "factorial:int=1 #Declarando factorial como un entero e inicializandolo en 1\n",
    "for i in range(1,x+1):#Para todo número i desde 1 hasta el x ingresado, incrementando de uno en uno\n",
    "    factorial=i*factorial#multiplicar el número i por el valor de factorial\n",
    "    print (i,factorial,sep=\",\")#Imprimir el número i y el factorial de i (separados por una coma)\n",
    "\n"
   ]
  }
 ],
 "metadata": {
  "kernelspec": {
   "display_name": "Python 3",
   "language": "python",
   "name": "python3"
  },
  "language_info": {
   "codemirror_mode": {
    "name": "ipython",
    "version": 3
   },
   "file_extension": ".py",
   "mimetype": "text/x-python",
   "name": "python",
   "nbconvert_exporter": "python",
   "pygments_lexer": "ipython3",
   "version": "3.11.4"
  }
 },
 "nbformat": 4,
 "nbformat_minor": 2
}
