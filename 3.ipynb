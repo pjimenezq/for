{
 "cells": [
  {
   "cell_type": "markdown",
   "metadata": {},
   "source": [
    "# Punto tres\n",
    "**Instrucción**\n",
    "\n",
    "Imprimir los números pares en forma descendente hasta 2 que son menores o iguales a un número natural n ≥ 2 dado"
   ]
  },
  {
   "cell_type": "code",
   "execution_count": 2,
   "metadata": {},
   "outputs": [
    {
     "name": "stdout",
     "output_type": "stream",
     "text": [
      "12\n",
      "10\n",
      "8\n",
      "6\n",
      "4\n",
      "2\n"
     ]
    }
   ],
   "source": [
    "x=int(input(\"Ingrese un número natural: \"))#Declarando e inicializando x con la funcion input()\n",
    "if x%2!=0:#Si el modulo de x dividido entre 2 es diferente a 0, x es impar\n",
    "    x-=1#Se le resta a x una unidad, para que sea un número par\n",
    "for i in range(x, 1, -2): print(i)#Para cada número i desde x hasta 2, disminuyendo de dos en dos, imprimir i"
   ]
  }
 ],
 "metadata": {
  "kernelspec": {
   "display_name": "Python 3",
   "language": "python",
   "name": "python3"
  },
  "language_info": {
   "codemirror_mode": {
    "name": "ipython",
    "version": 3
   },
   "file_extension": ".py",
   "mimetype": "text/x-python",
   "name": "python",
   "nbconvert_exporter": "python",
   "pygments_lexer": "ipython3",
   "version": "3.11.4"
  }
 },
 "nbformat": 4,
 "nbformat_minor": 2
}
