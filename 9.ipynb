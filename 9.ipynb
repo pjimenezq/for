{
 "cells": [
  {
   "cell_type": "markdown",
   "metadata": {},
   "source": [
    "# Punto 9\n",
    "**Instrucción**\n",
    "\n",
    "Diseñar una función que permita calcular una aproximación de la función seno alrededor de 0 para cualquier valor x (real), utilizando los primeros n términos de la serie de Maclaurin. Nota: use math para traer la función seno y mostrar la diferencia entre el valor real y la aproximación."
   ]
  },
  {
   "cell_type": "code",
   "execution_count": 3,
   "metadata": {},
   "outputs": [
    {
     "name": "stdout",
     "output_type": "stream",
     "text": [
      "La aproximación de la función seno, con 16 términos, es -0.5441272770056179\n",
      "El valor real de la función seno es -0.5440211108893698\n",
      "El error es de 0.019515072875495535\n"
     ]
    }
   ],
   "source": [
    "def elFactorial(x:int)->int:#Función para calcular el factorial\n",
    "    factorial:int=1 #Declarando factorial como un entero e inicializandolo en 1\n",
    "    for i in range(1,x+1):#Para todo número i desde 1 hasta el x ingresado, incrementando de uno en uno\n",
    "        factorial=i*factorial#multiplicar el número i por el valor de factorial\n",
    "    return factorial\n",
    "\n",
    "\n",
    "def funcionSeno(x:float,n:int)->float:#Función para calcular una aproximación de la función seno\n",
    "    suma : int = 0#Declarando suma como entero e inicializandolo en 0\n",
    "    for i in range(0, n):#Para todo número i desde 0 hasta n-1, incrementando de uno en uno\n",
    "        fact=elFactorial(2*i+1)#Se halla el factorial de (2*i+1), llamando la función elFactorial\n",
    "        calculo=((-1)**i)*((x**(2*i+1))/fact)#se calcula (-1)^i*((x^(2i+1)/(2i+1)!)\n",
    "        suma += calculo#Se suma los resultados hasta n-1\n",
    "    return(suma)\n",
    "\n",
    "if __name__==\"__main__\":\n",
    "    n = int(input(\"Ingrese la cantidad de términos: \"))#Declarando e inicializando n con input()\n",
    "    x = float(input(\"Ingrese valor x: \"))#Declarando e inicializando x con input()\n",
    "    funcion=funcionSeno(x,n)#Se llama la función funcionSeno\n",
    "    print(\"La aproximación de la función seno, con \" + str(n) + \" términos, es \" + str(funcion)) #Se imprime el resultado de la aproximación\n",
    "\n",
    "import math\n",
    "potencia=math.sin(x)#Llamando la función seno de x\n",
    "print(\"El valor real de la función seno es \"+ str(potencia))#Imprimiendo el valor real de la función seno de x\n",
    "\n",
    "error=((abs(funcion-potencia))/(abs(potencia)))*100#Formula para calcular el error en porcentaje\n",
    "print(\"El error es de \" +str(error))#Imprimiendo error"
   ]
  }
 ],
 "metadata": {
  "kernelspec": {
   "display_name": "Python 3",
   "language": "python",
   "name": "python3"
  },
  "language_info": {
   "codemirror_mode": {
    "name": "ipython",
    "version": 3
   },
   "file_extension": ".py",
   "mimetype": "text/x-python",
   "name": "python",
   "nbconvert_exporter": "python",
   "pygments_lexer": "ipython3",
   "version": "3.11.4"
  }
 },
 "nbformat": 4,
 "nbformat_minor": 2
}
